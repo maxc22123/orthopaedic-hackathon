{
 "cells": [
  {
   "attachments": {},
   "cell_type": "markdown",
   "id": "49f5974a-d0f3-4aee-b431-a1814a74ecf0",
   "metadata": {},
   "source": [
    "**<h1>AI in Orthopaedics Hackathon 2024</h1>\n",
    "<h3> Competition Solution (Bonus Challenge Attempted / Not Attempted) </h3>\n",
    "<h3> Names of team members</h3>"
   ]
  },
  {
   "cell_type": "code",
   "execution_count": 1,
   "id": "3b0482dc-0370-41cb-a588-aa12ca6b7177",
   "metadata": {},
   "outputs": [],
   "source": [
    "# Import dataset and all necessary libraries\n",
    "from ucimlrepo import fetch_ucirepo \n",
    "import pandas as pd\n",
    "import numpy as np\n",
    "import matplotlib.pyplot as plt\n",
    "from sklearn.metrics import confusion_matrix, ConfusionMatrixDisplay\n",
    "\n",
    "vertebral_column = fetch_ucirepo(id=212) \n",
    "\n",
    "X = vertebral_column.data.features \n",
    "y = vertebral_column.data.targets \n",
    "\n",
    "# Set seed value for all training\n",
    "SEED = 42"
   ]
  },
  {
   "cell_type": "code",
   "execution_count": 2,
   "id": "0909e3c5-fb75-4505-ab87-de000f2c3456",
   "metadata": {},
   "outputs": [
    {
     "data": {
      "text/html": [
       "<div>\n",
       "<style scoped>\n",
       "    .dataframe tbody tr th:only-of-type {\n",
       "        vertical-align: middle;\n",
       "    }\n",
       "\n",
       "    .dataframe tbody tr th {\n",
       "        vertical-align: top;\n",
       "    }\n",
       "\n",
       "    .dataframe thead th {\n",
       "        text-align: right;\n",
       "    }\n",
       "</style>\n",
       "<table border=\"1\" class=\"dataframe\">\n",
       "  <thead>\n",
       "    <tr style=\"text-align: right;\">\n",
       "      <th></th>\n",
       "      <th>pelvic_incidence</th>\n",
       "      <th>pelvic_tilt</th>\n",
       "      <th>lumbar_lordosis_angle</th>\n",
       "      <th>sacral_slope</th>\n",
       "      <th>pelvic_radius</th>\n",
       "      <th>degree_spondylolisthesis</th>\n",
       "      <th>class</th>\n",
       "    </tr>\n",
       "  </thead>\n",
       "  <tbody>\n",
       "    <tr>\n",
       "      <th>0</th>\n",
       "      <td>63.027817</td>\n",
       "      <td>22.552586</td>\n",
       "      <td>39.609117</td>\n",
       "      <td>40.475232</td>\n",
       "      <td>98.672917</td>\n",
       "      <td>-0.254400</td>\n",
       "      <td>Hernia</td>\n",
       "    </tr>\n",
       "    <tr>\n",
       "      <th>1</th>\n",
       "      <td>39.056951</td>\n",
       "      <td>10.060991</td>\n",
       "      <td>25.015378</td>\n",
       "      <td>28.995960</td>\n",
       "      <td>114.405425</td>\n",
       "      <td>4.564259</td>\n",
       "      <td>Hernia</td>\n",
       "    </tr>\n",
       "    <tr>\n",
       "      <th>2</th>\n",
       "      <td>68.832021</td>\n",
       "      <td>22.218482</td>\n",
       "      <td>50.092194</td>\n",
       "      <td>46.613539</td>\n",
       "      <td>105.985135</td>\n",
       "      <td>-3.530317</td>\n",
       "      <td>Hernia</td>\n",
       "    </tr>\n",
       "    <tr>\n",
       "      <th>3</th>\n",
       "      <td>69.297008</td>\n",
       "      <td>24.652878</td>\n",
       "      <td>44.311238</td>\n",
       "      <td>44.644130</td>\n",
       "      <td>101.868495</td>\n",
       "      <td>11.211523</td>\n",
       "      <td>Hernia</td>\n",
       "    </tr>\n",
       "    <tr>\n",
       "      <th>4</th>\n",
       "      <td>49.712859</td>\n",
       "      <td>9.652075</td>\n",
       "      <td>28.317406</td>\n",
       "      <td>40.060784</td>\n",
       "      <td>108.168725</td>\n",
       "      <td>7.918501</td>\n",
       "      <td>Hernia</td>\n",
       "    </tr>\n",
       "    <tr>\n",
       "      <th>...</th>\n",
       "      <td>...</td>\n",
       "      <td>...</td>\n",
       "      <td>...</td>\n",
       "      <td>...</td>\n",
       "      <td>...</td>\n",
       "      <td>...</td>\n",
       "      <td>...</td>\n",
       "    </tr>\n",
       "    <tr>\n",
       "      <th>305</th>\n",
       "      <td>47.903565</td>\n",
       "      <td>13.616688</td>\n",
       "      <td>36.000000</td>\n",
       "      <td>34.286877</td>\n",
       "      <td>117.449062</td>\n",
       "      <td>-4.245395</td>\n",
       "      <td>Normal</td>\n",
       "    </tr>\n",
       "    <tr>\n",
       "      <th>306</th>\n",
       "      <td>53.936748</td>\n",
       "      <td>20.721496</td>\n",
       "      <td>29.220534</td>\n",
       "      <td>33.215251</td>\n",
       "      <td>114.365845</td>\n",
       "      <td>-0.421010</td>\n",
       "      <td>Normal</td>\n",
       "    </tr>\n",
       "    <tr>\n",
       "      <th>307</th>\n",
       "      <td>61.446597</td>\n",
       "      <td>22.694968</td>\n",
       "      <td>46.170347</td>\n",
       "      <td>38.751628</td>\n",
       "      <td>125.670725</td>\n",
       "      <td>-2.707880</td>\n",
       "      <td>Normal</td>\n",
       "    </tr>\n",
       "    <tr>\n",
       "      <th>308</th>\n",
       "      <td>45.252792</td>\n",
       "      <td>8.693157</td>\n",
       "      <td>41.583126</td>\n",
       "      <td>36.559635</td>\n",
       "      <td>118.545842</td>\n",
       "      <td>0.214750</td>\n",
       "      <td>Normal</td>\n",
       "    </tr>\n",
       "    <tr>\n",
       "      <th>309</th>\n",
       "      <td>33.841641</td>\n",
       "      <td>5.073991</td>\n",
       "      <td>36.641233</td>\n",
       "      <td>28.767649</td>\n",
       "      <td>123.945244</td>\n",
       "      <td>-0.199249</td>\n",
       "      <td>Normal</td>\n",
       "    </tr>\n",
       "  </tbody>\n",
       "</table>\n",
       "<p>310 rows × 7 columns</p>\n",
       "</div>"
      ],
      "text/plain": [
       "     pelvic_incidence  pelvic_tilt  lumbar_lordosis_angle  sacral_slope  \\\n",
       "0           63.027817    22.552586              39.609117     40.475232   \n",
       "1           39.056951    10.060991              25.015378     28.995960   \n",
       "2           68.832021    22.218482              50.092194     46.613539   \n",
       "3           69.297008    24.652878              44.311238     44.644130   \n",
       "4           49.712859     9.652075              28.317406     40.060784   \n",
       "..                ...          ...                    ...           ...   \n",
       "305         47.903565    13.616688              36.000000     34.286877   \n",
       "306         53.936748    20.721496              29.220534     33.215251   \n",
       "307         61.446597    22.694968              46.170347     38.751628   \n",
       "308         45.252792     8.693157              41.583126     36.559635   \n",
       "309         33.841641     5.073991              36.641233     28.767649   \n",
       "\n",
       "     pelvic_radius  degree_spondylolisthesis   class  \n",
       "0        98.672917                 -0.254400  Hernia  \n",
       "1       114.405425                  4.564259  Hernia  \n",
       "2       105.985135                 -3.530317  Hernia  \n",
       "3       101.868495                 11.211523  Hernia  \n",
       "4       108.168725                  7.918501  Hernia  \n",
       "..             ...                       ...     ...  \n",
       "305     117.449062                 -4.245395  Normal  \n",
       "306     114.365845                 -0.421010  Normal  \n",
       "307     125.670725                 -2.707880  Normal  \n",
       "308     118.545842                  0.214750  Normal  \n",
       "309     123.945244                 -0.199249  Normal  \n",
       "\n",
       "[310 rows x 7 columns]"
      ]
     },
     "execution_count": 2,
     "metadata": {},
     "output_type": "execute_result"
    }
   ],
   "source": [
    "''' Full Dataset with Classification '''\n",
    "pd.concat([X,y], axis=1)"
   ]
  },
  {
   "cell_type": "markdown",
   "id": "a59d3eb0-0228-4dec-94c4-f23f8f51b498",
   "metadata": {},
   "source": [
    "**\n",
    "\n",
    "- Write down the scope of the problem, what variable there are, the goal in which we are trying to achieve, and how we are going to use an appropriate ML model (ie. Logistic Regression) to solve this problem.\n",
    "\n",
    "- Why we chose to use logit for this problem (as opposed to algos like linear reg or decision trees)\n",
    "\n",
    "- What are the necessary things we have to do to implement a Logistic Regression function (e.g. Sigmoid function, , likelihood function, log-likelihood, cross entropy/loss function, tolerance for stopping criteria etc.) (probs just explain the univariate version of the function first, we can do further explanation on the multivariate version in the bonus challenge section).\n",
    "\n",
    "- cite sklearn LogReg algo and https://www.youtube.com/watch?v=YYEJ_GUguHw"
   ]
  },
  {
   "cell_type": "code",
   "execution_count": 3,
   "id": "a9ff151f-fbe3-4fcb-84b2-4a834b760c81",
   "metadata": {},
   "outputs": [],
   "source": [
    "''' Data Cleansing '''\n",
    "\n",
    "# Classify class data into either Normal (0) or Abnormal (1)\n",
    "binary_y = pd.DataFrame(np.where(y =='Normal', 0, 1))\n",
    "\n",
    "# Split training and testing data randomly (80-20 split)\n",
    "X_train = X.sample(frac=0.8, random_state=SEED)\n",
    "y_train = binary_y.sample(frac=0.8, random_state=SEED)\n",
    "\n",
    "X_test = X.loc[X.index.difference(X_train.index)]\n",
    "y_test = binary_y.loc[binary_y.index.difference(y_train.index)]\n",
    "\n",
    "# Reformat class data into suitable NumPy arrays\n",
    "y_train = y_train.to_numpy().reshape(-1)\n",
    "y_test = np.array(y_test).ravel()"
   ]
  },
  {
   "cell_type": "code",
   "execution_count": 4,
   "id": "e39c5c98-6c3a-43eb-99f9-202c77a44a01",
   "metadata": {},
   "outputs": [],
   "source": [
    "''' Implementation of the Logistic Regression Model (v1.0) '''\n",
    "\n",
    "class LogisticRegressionV1():\n",
    "\n",
    "    '''\n",
    "    Initialise the model.\n",
    "\n",
    "    @params\n",
    "    lr (float): Learning rate (or step size) of loss functions.\n",
    "    max_epoch (int): Maximum number of epoch.\n",
    "    thres (float): The classification threshold for binary classification.\n",
    "    '''\n",
    "    def __init__(self, lr=0.001, max_epoch=1000 ,thres=0.5):\n",
    "        self.lr = lr\n",
    "        self.max_epoch = max_epoch\n",
    "        self.thres = thres\n",
    "        self.weights = None\n",
    "        self.bias = 0\n",
    "\n",
    "    ''' Sigmoid Function.\n",
    "    @params\n",
    "    x (DataFrame): Linear combination of training data.\n",
    "    @return\n",
    "    DataFrame with updated probabilites. '''\n",
    "    def _sigmoid(self, x):\n",
    "        return 1 / (1 + np.exp(-x))\n",
    "\n",
    "    ''' Fits model with given training data.\n",
    "    @params\n",
    "    X (DataFrame): Training vector\n",
    "    y (Array): Class vector '''\n",
    "    def fit(self, X, y):\n",
    "        samples, features = X.shape\n",
    "        # Initialise 0 weight for each dimension. \n",
    "        # (Set data type to float128 to prevent precision loss)\n",
    "        self.weights = np.zeros(features, dtype=np.float128) \n",
    "\n",
    "        for _ in range(self.max_epoch):\n",
    "            # Calculate w_t*x + b and apply sigmoid function.\n",
    "            linear_prediction = np.dot(X, self.weights) + self.bias\n",
    "            prediction = self._sigmoid(linear_prediction)\n",
    "            \n",
    "            # Calculate weight and bias gradient.\n",
    "            dw = (1/samples) * np.dot(X.T, (prediction - y))\n",
    "            db = (1/samples) * np.sum(prediction - y)\n",
    "\n",
    "            # Calculate new weights and bias.\n",
    "            self.weights = self.weights - self.lr*dw\n",
    "            self.bias = self.bias - self.lr*db\n",
    "\n",
    "\n",
    "    ''' Predicts classification with test data.\n",
    "    @params\n",
    "    X (DataFrame): Testing vector.\n",
    "    @return\n",
    "    Array of class predictions.'''\n",
    "    def predict(self, X):\n",
    "        linear_prediction = np.dot(X, self.weights) + self.bias\n",
    "        prediction = self._sigmoid(linear_prediction)\n",
    "        # Classify predictions as either Normal or Abnormal\n",
    "        # according to the classification threshold.\n",
    "        class_pred = np.array([0 if p <= self.thres else 1 for p in prediction])\n",
    "        \n",
    "        return class_pred\n",
    "\n",
    "    ''' Determines accuracy of classification.\n",
    "    @params\n",
    "    X (DataFrame): Testing vector.\n",
    "    y (Array): Class vector.\n",
    "    @return\n",
    "    Float of percentage accuracy.\n",
    "    '''\n",
    "    def accuracy(self, X, y):\n",
    "        predictions = self.predict(X)\n",
    "        return np.sum(predictions==y)/len(y)\n",
    "\n",
    "    ''' Getter for weights.\n",
    "    @return \n",
    "    An array of weights for each dimension'''\n",
    "    def get_weights(self):\n",
    "        return self.weights\n",
    "        "
   ]
  },
  {
   "cell_type": "code",
   "execution_count": 5,
   "id": "44e03028-6fe9-4ed8-8d9f-668018369501",
   "metadata": {},
   "outputs": [
    {
     "name": "stdout",
     "output_type": "stream",
     "text": [
      "Accuracy: 77.42%\n"
     ]
    }
   ],
   "source": [
    "''' Initialise Logistic Regression Model'''\n",
    "logit_model = LogisticRegressionV1()\n",
    "\n",
    "# Fit and predict outcome with training and testing data respectively\n",
    "logit_model.fit(X_train, y_train)\n",
    "predictions = logit_model.predict(X_test)\n",
    "\n",
    "# Calculate accuracy of test\n",
    "accuracy = logit_model.accuracy(X_test, y_test)\n",
    "\n",
    "print(f'Accuracy: {accuracy*100:.2f}%')"
   ]
  },
  {
   "cell_type": "markdown",
   "id": "4adb10c5-3d27-4c03-8c64-66101ef0393c",
   "metadata": {},
   "source": [
    "**\n",
    "\n",
    "The first version of this model produces classification accuracy of 77.42%, below is further data analysis on our inital result. Let's take a deeper look into the results."
   ]
  },
  {
   "cell_type": "code",
   "execution_count": 6,
   "id": "9a133cc5-3bbb-41c2-bffe-af57bd585978",
   "metadata": {},
   "outputs": [
    {
     "data": {
      "image/png": "[encoded data removed]",
      "text/plain": [
       "<Figure size 640x480 with 2 Axes>"
      ]
     },
     "metadata": {},
     "output_type": "display_data"
    }
   ],
   "source": [
    "''' Analysis: Confusion Matrix'''\n",
    "cm = confusion_matrix(y_test, predictions)\n",
    "disp = ConfusionMatrixDisplay(confusion_matrix=cm, display_labels=['Normal','Abnormal'])\n",
    "\n",
    "disp.plot()\n",
    "plt.title('Confusion Matrix of Normal/Abnormal Classification')\n",
    "plt.show()"
   ]
  },
  {
   "cell_type": "markdown",
   "id": "a1988964-390e-4a4a-a5bc-0e2780311de3",
   "metadata": {},
   "source": [
    "**\n",
    "\n",
    "- Talk about how bottom left quadrant (True Abnormal, Predicted Normal) is bad. Quick fix would be to decrease threshold even though it is potentially sacirificing accuracy"
   ]
  },
  {
   "cell_type": "code",
   "execution_count": 7,
   "id": "0e6c69d7-3c40-45fd-b1df-351d17562314",
   "metadata": {},
   "outputs": [
    {
     "data": {
      "image/png": "[encoded data removed]",
      "text/plain": [
       "<Figure size 640x480 with 1 Axes>"
      ]
     },
     "metadata": {},
     "output_type": "display_data"
    }
   ],
   "source": [
    "''' Analysis: Weighting of Features '''\n",
    "weights = logit_model.get_weights()\n",
    "features = X.columns.tolist()\n",
    "\n",
    "# Correspond each feature name with its weight\n",
    "feature_weights = dict(zip(features, weights))\n",
    "\n",
    "plt.bar(feature_weights.keys(), feature_weights.values())\n",
    "\n",
    "plt.title('Bar Graph of Features and Values');\n",
    "plt.xlabel('Features');plt.ylabel('Values');\n",
    "plt.xticks(rotation=45);\n",
    "\n",
    "plt.show()"
   ]
  },
  {
   "cell_type": "markdown",
   "id": "4ddf0607-2ab7-4b81-b710-d8ffc15c352c",
   "metadata": {},
   "source": [
    "**\n",
    "\n",
    "- After a ton of graphical analysis and explanations up here ^, talk about some heuristics of how we can tweak custom weights for different dimensionality to further improve the model.\n",
    "\n",
    "\n",
    "- tolerance level. Explain some maths theory on why add tolerance level (overtraining, efficiency/accuracy tradeoff)\n",
    "\n",
    "- other improvements idk yet\n",
    "\n",
    "- after model v1.1, maybe talk about linear separability(?)"
   ]
  },
  {
   "cell_type": "code",
   "execution_count": 8,
   "id": "348224c7-6e5b-4e02-b2bd-ddacb533aa2f",
   "metadata": {},
   "outputs": [
    {
     "data": {
      "text/plain": [
       "array([0, 1, 0, 0, 0, 0, 0, 0, 0, 0, 0, 1, 1, 0, 0, 1, 1, 1, 1, 1, 1, 1,\n",
       "       1, 0, 1, 1, 1, 1, 1, 1, 1, 1, 1, 1, 1, 1, 1, 1, 1, 1, 1, 1, 0, 0,\n",
       "       0, 0, 1, 0, 0, 0, 0, 0, 0, 0, 0, 0, 0, 0, 0, 0, 0, 0])"
      ]
     },
     "execution_count": 8,
     "metadata": {},
     "output_type": "execute_result"
    }
   ],
   "source": [
    "predictions"
   ]
  },
  {
   "cell_type": "code",
   "execution_count": null,
   "id": "8ec647f9-1453-45ea-9aa3-4e85e82de37c",
   "metadata": {},
   "outputs": [],
   "source": []
  }
 ],
 "metadata": {
  "kernelspec": {
   "display_name": "Python 3 (ipykernel)",
   "language": "python",
   "name": "python3"
  },
  "language_info": {
   "codemirror_mode": {
    "name": "ipython",
    "version": 3
   },
   "file_extension": ".py",
   "mimetype": "text/x-python",
   "name": "python",
   "nbconvert_exporter": "python",
   "pygments_lexer": "ipython3",
   "version": "3.10.6"
  }
 },
 "nbformat": 4,
 "nbformat_minor": 5
}
